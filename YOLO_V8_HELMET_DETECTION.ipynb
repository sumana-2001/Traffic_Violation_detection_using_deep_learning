{
  "cells": [
    {
      "cell_type": "code",
      "execution_count": null,
      "metadata": {
        "id": "ONdAUO9Pw4Jq"
      },
      "outputs": [],
      "source": [
        "!pip install ultralytics"
      ]
    },
    {
      "cell_type": "code",
      "execution_count": null,
      "metadata": {
        "id": "Oup7muuZCEU_"
      },
      "outputs": [],
      "source": [
        "## importing required libraries\n",
        "import os\n",
        "import shutil\n",
        "import random\n",
        "\n",
        "!pip install tqdm --upgrade\n",
        "from tqdm.notebook import tqdm\n",
        "from tensorflow.keras.optimizers import SGD"
      ]
    },
    {
      "cell_type": "code",
      "execution_count": null,
      "metadata": {
        "id": "geMAUUlKCLtz"
      },
      "outputs": [],
      "source": [
        "from google.colab import drive\n",
        "drive.mount('/content/drive')"
      ]
    },
    {
      "cell_type": "code",
      "execution_count": null,
      "metadata": {
        "id": "SilOhKz9JGYC"
      },
      "outputs": [],
      "source": [
        "import ultralytics\n",
        "ultralytics.checks()"
      ]
    },
    {
      "cell_type": "code",
      "execution_count": null,
      "metadata": {
        "id": "7obkdVeu3Nzs"
      },
      "outputs": [],
      "source": [
        "!python /content/drive/MyDrive/MAJOR_PROJECT_DATASET/custom_dataset/creating-train-and-test-txt-files.py"
      ]
    },
    {
      "cell_type": "code",
      "source": [
        "!yolo detect model=/content/drive/MyDrive/YOLO_V8_DATASET/train3/weights/best.pt data=/content/drive/MyDrive/YOLO_V8_DATASET/dataset.yaml epochs = 50 split=test"
      ],
      "metadata": {
        "colab": {
          "base_uri": "https://localhost:8080/"
        },
        "id": "x0I5PkucEtxP",
        "outputId": "e455304d-9812-4f33-87b3-b69662957da4"
      },
      "execution_count": null,
      "outputs": [
        {
          "output_type": "stream",
          "name": "stdout",
          "text": [
            "WARNING ⚠️ 'mode' is missing. Valid modes are ('train', 'val', 'predict', 'export', 'track', 'benchmark'). Using default 'mode=train'.\n",
            "Ultralytics YOLOv8.0.101 🚀 Python-3.10.11 torch-2.0.0+cu118 CUDA:0 (Tesla T4, 15102MiB)\n",
            "\u001b[34m\u001b[1myolo/engine/trainer: \u001b[0mtask=detect, mode=train, model=/content/drive/MyDrive/YOLO_V8_DATASET/train3/weights/best.pt, data=/content/drive/MyDrive/YOLO_V8_DATASET/dataset.yaml, epochs=50, patience=50, batch=16, imgsz=640, save=True, save_period=-1, cache=False, device=None, workers=8, project=None, name=None, exist_ok=False, pretrained=False, optimizer=SGD, verbose=True, seed=0, deterministic=True, single_cls=False, rect=False, cos_lr=False, close_mosaic=0, resume=False, amp=True, overlap_mask=True, mask_ratio=4, dropout=0.0, val=True, split=test, save_json=False, save_hybrid=False, conf=None, iou=0.7, max_det=300, half=False, dnn=False, plots=True, source=None, show=False, save_txt=False, save_conf=False, save_crop=False, show_labels=True, show_conf=True, vid_stride=1, line_width=None, visualize=False, augment=False, agnostic_nms=False, classes=None, retina_masks=False, boxes=True, format=torchscript, keras=False, optimize=False, int8=False, dynamic=False, simplify=False, opset=None, workspace=4, nms=False, lr0=0.01, lrf=0.01, momentum=0.937, weight_decay=0.0005, warmup_epochs=3.0, warmup_momentum=0.8, warmup_bias_lr=0.1, box=7.5, cls=0.5, dfl=1.5, pose=12.0, kobj=1.0, label_smoothing=0.0, nbs=64, hsv_h=0.015, hsv_s=0.7, hsv_v=0.4, degrees=0.0, translate=0.1, scale=0.5, shear=0.0, perspective=0.0, flipud=0.0, fliplr=0.5, mosaic=1.0, mixup=0.0, copy_paste=0.0, cfg=None, v5loader=False, tracker=botsort.yaml, save_dir=runs/detect/train3\n",
            "\n",
            "                   from  n    params  module                                       arguments                     \n",
            "  0                  -1  1      2320  ultralytics.nn.modules.conv.Conv             [3, 80, 3, 2]                 \n",
            "  1                  -1  1    115520  ultralytics.nn.modules.conv.Conv             [80, 160, 3, 2]               \n",
            "  2                  -1  3    436800  ultralytics.nn.modules.block.C2f             [160, 160, 3, True]           \n",
            "  3                  -1  1    461440  ultralytics.nn.modules.conv.Conv             [160, 320, 3, 2]              \n",
            "  4                  -1  6   3281920  ultralytics.nn.modules.block.C2f             [320, 320, 6, True]           \n",
            "  5                  -1  1   1844480  ultralytics.nn.modules.conv.Conv             [320, 640, 3, 2]              \n",
            "  6                  -1  6  13117440  ultralytics.nn.modules.block.C2f             [640, 640, 6, True]           \n",
            "  7                  -1  1   3687680  ultralytics.nn.modules.conv.Conv             [640, 640, 3, 2]              \n",
            "  8                  -1  3   6969600  ultralytics.nn.modules.block.C2f             [640, 640, 3, True]           \n",
            "  9                  -1  1   1025920  ultralytics.nn.modules.block.SPPF            [640, 640, 5]                 \n",
            " 10                  -1  1         0  torch.nn.modules.upsampling.Upsample         [None, 2, 'nearest']          \n",
            " 11             [-1, 6]  1         0  ultralytics.nn.modules.conv.Concat           [1]                           \n",
            " 12                  -1  3   7379200  ultralytics.nn.modules.block.C2f             [1280, 640, 3]                \n",
            " 13                  -1  1         0  torch.nn.modules.upsampling.Upsample         [None, 2, 'nearest']          \n",
            " 14             [-1, 4]  1         0  ultralytics.nn.modules.conv.Concat           [1]                           \n",
            " 15                  -1  3   1948800  ultralytics.nn.modules.block.C2f             [960, 320, 3]                 \n",
            " 16                  -1  1    922240  ultralytics.nn.modules.conv.Conv             [320, 320, 3, 2]              \n",
            " 17            [-1, 12]  1         0  ultralytics.nn.modules.conv.Concat           [1]                           \n",
            " 18                  -1  3   7174400  ultralytics.nn.modules.block.C2f             [960, 640, 3]                 \n",
            " 19                  -1  1   3687680  ultralytics.nn.modules.conv.Conv             [640, 640, 3, 2]              \n",
            " 20             [-1, 9]  1         0  ultralytics.nn.modules.conv.Concat           [1]                           \n",
            " 21                  -1  3   7379200  ultralytics.nn.modules.block.C2f             [1280, 640, 3]                \n",
            " 22        [15, 18, 21]  1   8719894  ultralytics.nn.modules.head.Detect           [2, [320, 640, 640]]          \n",
            "Model summary: 365 layers, 68154534 parameters, 68154518 gradients, 258.1 GFLOPs\n",
            "\n",
            "Transferred 595/595 items from pretrained weights\n",
            "\u001b[34m\u001b[1mTensorBoard: \u001b[0mStart with 'tensorboard --logdir runs/detect/train3', view at http://localhost:6006/\n",
            "\u001b[34m\u001b[1mAMP: \u001b[0mrunning Automatic Mixed Precision (AMP) checks with YOLOv8n...\n",
            "\u001b[34m\u001b[1mAMP: \u001b[0mchecks passed ✅\n",
            "\u001b[34m\u001b[1moptimizer:\u001b[0m SGD(lr=0.01) with parameter groups 97 weight(decay=0.0), 104 weight(decay=0.0005), 103 bias\n",
            "\u001b[34m\u001b[1mtrain: \u001b[0mScanning /content/drive/MyDrive/MAJOR_PROJECT_DATASET/custom_dataset... 779 images, 3 backgrounds, 12 corrupt: 100% 782/782 [00:02<00:00, 278.69it/s]\n",
            "\u001b[34m\u001b[1mtrain: \u001b[0mWARNING ⚠️ /content/drive/MyDrive/MAJOR_PROJECT_DATASET/custom_dataset/BikesHelmets279.jpg: ignoring corrupt image/label: non-normalized or out of bounds coordinates [      194.5          56         103         100]\n",
            "\u001b[34m\u001b[1mtrain: \u001b[0mWARNING ⚠️ /content/drive/MyDrive/MAJOR_PROJECT_DATASET/custom_dataset/BikesHelmets326.jpg: ignoring corrupt image/label: non-normalized or out of bounds coordinates [        157        56.5          86          97]\n",
            "\u001b[34m\u001b[1mtrain: \u001b[0mWARNING ⚠️ /content/drive/MyDrive/MAJOR_PROJECT_DATASET/custom_dataset/BikesHelmets343.jpg: ignoring corrupt image/label: non-normalized or out of bounds coordinates [     682.27       150.5      118.22         107]\n",
            "\u001b[34m\u001b[1mtrain: \u001b[0mWARNING ⚠️ /content/drive/MyDrive/MAJOR_PROJECT_DATASET/custom_dataset/BikesHelmets441.jpg: ignoring corrupt image/label: non-normalized or out of bounds coordinates [      310.5        41.5          61          63]\n",
            "\u001b[34m\u001b[1mtrain: \u001b[0mWARNING ⚠️ /content/drive/MyDrive/MAJOR_PROJECT_DATASET/custom_dataset/BikesHelmets444.jpg: ignoring corrupt image/label: non-normalized or out of bounds coordinates [        299          48          78          80]\n",
            "\u001b[34m\u001b[1mtrain: \u001b[0mWARNING ⚠️ /content/drive/MyDrive/MAJOR_PROJECT_DATASET/custom_dataset/BikesHelmets446.jpg: 1 duplicate labels removed\n",
            "\u001b[34m\u001b[1mtrain: \u001b[0mWARNING ⚠️ /content/drive/MyDrive/MAJOR_PROJECT_DATASET/custom_dataset/BikesHelmets530.jpg: ignoring corrupt image/label: non-normalized or out of bounds coordinates [     313.35          74      102.11         116]\n",
            "\u001b[34m\u001b[1mtrain: \u001b[0mWARNING ⚠️ /content/drive/MyDrive/MAJOR_PROJECT_DATASET/custom_dataset/BikesHelmets616.jpg: ignoring corrupt image/label: non-normalized or out of bounds coordinates [        750       297.5          68          91]\n",
            "\u001b[34m\u001b[1mtrain: \u001b[0mWARNING ⚠️ /content/drive/MyDrive/MAJOR_PROJECT_DATASET/custom_dataset/BikesHelmets671.jpg: ignoring corrupt image/label: non-normalized or out of bounds coordinates [        863         251          52          52]\n",
            "\u001b[34m\u001b[1mtrain: \u001b[0mWARNING ⚠️ /content/drive/MyDrive/MAJOR_PROJECT_DATASET/custom_dataset/BikesHelmets706.jpg: ignoring corrupt image/label: non-normalized or out of bounds coordinates [      379.5        82.5          61          65]\n",
            "\u001b[34m\u001b[1mtrain: \u001b[0mWARNING ⚠️ /content/drive/MyDrive/MAJOR_PROJECT_DATASET/custom_dataset/BikesHelmets75.jpg: ignoring corrupt image/label: non-normalized or out of bounds coordinates [        471       290.5          82         109         761       291.5          84          97       466.5         297         109         118]\n",
            "\u001b[34m\u001b[1mtrain: \u001b[0mWARNING ⚠️ /content/drive/MyDrive/MAJOR_PROJECT_DATASET/custom_dataset/BikesHelmets764.jpg: ignoring corrupt image/label: non-normalized or out of bounds coordinates [        219          91          80          82]\n",
            "\u001b[34m\u001b[1mtrain: \u001b[0mWARNING ⚠️ /content/drive/MyDrive/MAJOR_PROJECT_DATASET/custom_dataset/BikesHelmets80.jpg: ignoring corrupt image/label: non-normalized or out of bounds coordinates [      424.5      45.298          71      82.631]\n",
            "\u001b[34m\u001b[1mtrain: \u001b[0mNew cache created: /content/drive/MyDrive/MAJOR_PROJECT_DATASET/custom_dataset.cache\n",
            "\u001b[34m\u001b[1malbumentations: \u001b[0mBlur(p=0.01, blur_limit=(3, 7)), MedianBlur(p=0.01, blur_limit=(3, 7)), ToGray(p=0.01), CLAHE(p=0.01, clip_limit=(1, 4.0), tile_grid_size=(8, 8))\n",
            "\u001b[34m\u001b[1mval: \u001b[0mScanning /content/drive/MyDrive/MAJOR_PROJECT_DATASET/custom_dataset... 138 images, 0 backgrounds, 3 corrupt: 100% 138/138 [00:00<00:00, 177.73it/s]\n",
            "\u001b[34m\u001b[1mval: \u001b[0mWARNING ⚠️ /content/drive/MyDrive/MAJOR_PROJECT_DATASET/custom_dataset/BikesHelmets103.jpg: ignoring corrupt image/label: non-normalized or out of bounds coordinates [     408.72      81.502      71.037      83.004]\n",
            "\u001b[34m\u001b[1mval: \u001b[0mWARNING ⚠️ /content/drive/MyDrive/MAJOR_PROJECT_DATASET/custom_dataset/BikesHelmets140.jpg: ignoring corrupt image/label: non-normalized or out of bounds coordinates [     547.68        84.5      132.16         151]\n",
            "\u001b[34m\u001b[1mval: \u001b[0mWARNING ⚠️ /content/drive/MyDrive/MAJOR_PROJECT_DATASET/custom_dataset/BikesHelmets205.jpg: ignoring corrupt image/label: non-normalized or out of bounds coordinates [      263.5          43          85          74]\n",
            "\u001b[34m\u001b[1mval: \u001b[0mNew cache created: /content/drive/MyDrive/MAJOR_PROJECT_DATASET/custom_dataset.cache\n",
            "Plotting labels to runs/detect/train3/labels.jpg... \n",
            "Image sizes 640 train, 640 val\n",
            "Using 2 dataloader workers\n",
            "Logging results to \u001b[1mruns/detect/train3\u001b[0m\n",
            "Starting training for 50 epochs...\n",
            "\n",
            "      Epoch    GPU_mem   box_loss   cls_loss   dfl_loss  Instances       Size\n",
            "       1/50      13.5G      1.415      1.232      1.283          5        640: 100% 49/49 [01:52<00:00,  2.30s/it]\n",
            "                 Class     Images  Instances      Box(P          R      mAP50  mAP50-95): 100% 5/5 [00:05<00:00,  1.12s/it]\n",
            "                   all        135        262      0.774      0.863      0.867      0.544\n",
            "\n",
            "      Epoch    GPU_mem   box_loss   cls_loss   dfl_loss  Instances       Size\n",
            "       2/50      13.8G      1.313     0.8576      1.218          8        640: 100% 49/49 [01:48<00:00,  2.21s/it]\n",
            "                 Class     Images  Instances      Box(P          R      mAP50  mAP50-95): 100% 5/5 [00:05<00:00,  1.04s/it]\n",
            "                   all        135        262      0.784      0.866      0.882      0.555\n",
            "\n",
            "      Epoch    GPU_mem   box_loss   cls_loss   dfl_loss  Instances       Size\n",
            "       3/50      13.8G      1.311     0.8599      1.201         10        640: 100% 49/49 [01:47<00:00,  2.20s/it]\n",
            "                 Class     Images  Instances      Box(P          R      mAP50  mAP50-95): 100% 5/5 [00:05<00:00,  1.17s/it]\n",
            "                   all        135        262      0.771      0.878      0.862      0.517\n",
            "\n",
            "      Epoch    GPU_mem   box_loss   cls_loss   dfl_loss  Instances       Size\n",
            "       4/50      13.9G      1.312     0.9141      1.236          9        640: 100% 49/49 [01:47<00:00,  2.19s/it]\n",
            "                 Class     Images  Instances      Box(P          R      mAP50  mAP50-95): 100% 5/5 [00:05<00:00,  1.15s/it]\n",
            "                   all        135        262      0.724      0.882      0.855      0.513\n",
            "\n",
            "      Epoch    GPU_mem   box_loss   cls_loss   dfl_loss  Instances       Size\n",
            "       5/50      13.9G      1.322     0.8667      1.222          8        640: 100% 49/49 [01:46<00:00,  2.16s/it]\n",
            "                 Class     Images  Instances      Box(P          R      mAP50  mAP50-95): 100% 5/5 [00:05<00:00,  1.11s/it]\n",
            "                   all        135        262      0.734      0.874      0.846      0.532\n",
            "\n",
            "      Epoch    GPU_mem   box_loss   cls_loss   dfl_loss  Instances       Size\n",
            "       6/50      13.8G      1.314      0.828      1.219          3        640: 100% 49/49 [01:47<00:00,  2.19s/it]\n",
            "                 Class     Images  Instances      Box(P          R      mAP50  mAP50-95): 100% 5/5 [00:05<00:00,  1.07s/it]\n",
            "                   all        135        262      0.805      0.809      0.856      0.532\n",
            "\n",
            "      Epoch    GPU_mem   box_loss   cls_loss   dfl_loss  Instances       Size\n",
            "       7/50      13.8G      1.285      0.769      1.208          7        640: 100% 49/49 [01:46<00:00,  2.18s/it]\n",
            "                 Class     Images  Instances      Box(P          R      mAP50  mAP50-95): 100% 5/5 [00:05<00:00,  1.02s/it]\n",
            "                   all        135        262      0.821      0.807      0.838      0.519\n",
            "\n",
            "      Epoch    GPU_mem   box_loss   cls_loss   dfl_loss  Instances       Size\n",
            "       8/50      13.8G      1.264     0.7723       1.22          9        640: 100% 49/49 [01:46<00:00,  2.17s/it]\n",
            "                 Class     Images  Instances      Box(P          R      mAP50  mAP50-95): 100% 5/5 [00:04<00:00,  1.05it/s]\n",
            "                   all        135        262      0.814      0.855      0.881      0.542\n",
            "\n",
            "      Epoch    GPU_mem   box_loss   cls_loss   dfl_loss  Instances       Size\n",
            "       9/50      13.9G      1.252     0.7346      1.189          8        640: 100% 49/49 [01:45<00:00,  2.16s/it]\n",
            "                 Class     Images  Instances      Box(P          R      mAP50  mAP50-95): 100% 5/5 [00:04<00:00,  1.02it/s]\n",
            "                   all        135        262      0.736      0.805      0.782      0.488\n",
            "\n",
            "      Epoch    GPU_mem   box_loss   cls_loss   dfl_loss  Instances       Size\n",
            "      10/50      13.8G      1.217     0.6998      1.182          7        640: 100% 49/49 [01:45<00:00,  2.15s/it]\n",
            "                 Class     Images  Instances      Box(P          R      mAP50  mAP50-95): 100% 5/5 [00:04<00:00,  1.04it/s]\n",
            "                   all        135        262      0.777       0.81      0.869      0.562\n",
            "\n",
            "      Epoch    GPU_mem   box_loss   cls_loss   dfl_loss  Instances       Size\n",
            "      11/50      13.8G      1.186     0.6704      1.188          4        640: 100% 49/49 [01:45<00:00,  2.15s/it]\n",
            "                 Class     Images  Instances      Box(P          R      mAP50  mAP50-95): 100% 5/5 [00:05<00:00,  1.09s/it]\n",
            "                   all        135        262      0.789        0.8       0.85      0.532\n",
            "\n",
            "      Epoch    GPU_mem   box_loss   cls_loss   dfl_loss  Instances       Size\n",
            "      12/50      13.8G      1.161     0.6605      1.163          9        640: 100% 49/49 [01:43<00:00,  2.11s/it]\n",
            "                 Class     Images  Instances      Box(P          R      mAP50  mAP50-95): 100% 5/5 [00:05<00:00,  1.05s/it]\n",
            "                   all        135        262      0.798       0.84      0.867      0.526\n",
            "\n",
            "      Epoch    GPU_mem   box_loss   cls_loss   dfl_loss  Instances       Size\n",
            "      13/50      13.9G      1.162     0.6506      1.145         12        640: 100% 49/49 [01:45<00:00,  2.16s/it]\n",
            "                 Class     Images  Instances      Box(P          R      mAP50  mAP50-95): 100% 5/5 [00:05<00:00,  1.14s/it]\n",
            "                   all        135        262      0.801      0.786      0.857      0.558\n",
            "\n",
            "      Epoch    GPU_mem   box_loss   cls_loss   dfl_loss  Instances       Size\n",
            "      14/50      13.8G       1.14     0.6348      1.142          4        640: 100% 49/49 [01:45<00:00,  2.15s/it]\n",
            "                 Class     Images  Instances      Box(P          R      mAP50  mAP50-95): 100% 5/5 [00:05<00:00,  1.03s/it]\n",
            "                   all        135        262      0.806      0.847      0.863      0.543\n",
            "\n",
            "      Epoch    GPU_mem   box_loss   cls_loss   dfl_loss  Instances       Size\n",
            "      15/50      13.8G      1.106      0.614      1.147         12        640: 100% 49/49 [01:44<00:00,  2.14s/it]\n",
            "                 Class     Images  Instances      Box(P          R      mAP50  mAP50-95): 100% 5/5 [00:05<00:00,  1.02s/it]\n",
            "                   all        135        262      0.797      0.874      0.879      0.567\n",
            "\n",
            "      Epoch    GPU_mem   box_loss   cls_loss   dfl_loss  Instances       Size\n",
            "      16/50      13.9G      1.127     0.6157      1.143          9        640: 100% 49/49 [01:43<00:00,  2.12s/it]\n",
            "                 Class     Images  Instances      Box(P          R      mAP50  mAP50-95): 100% 5/5 [00:05<00:00,  1.04s/it]\n",
            "                   all        135        262      0.804       0.84      0.846      0.541\n",
            "\n",
            "      Epoch    GPU_mem   box_loss   cls_loss   dfl_loss  Instances       Size\n",
            "      17/50      13.9G      1.088     0.6057      1.093         15        640: 100% 49/49 [01:45<00:00,  2.16s/it]\n",
            "                 Class     Images  Instances      Box(P          R      mAP50  mAP50-95): 100% 5/5 [00:04<00:00,  1.01it/s]\n",
            "                   all        135        262      0.813      0.844      0.865      0.563\n",
            "\n",
            "      Epoch    GPU_mem   box_loss   cls_loss   dfl_loss  Instances       Size\n",
            "      18/50      13.8G      1.059     0.5658      1.073         19        640: 100% 49/49 [01:44<00:00,  2.13s/it]\n",
            "                 Class     Images  Instances      Box(P          R      mAP50  mAP50-95): 100% 5/5 [00:05<00:00,  1.00s/it]\n",
            "                   all        135        262      0.825      0.836      0.876      0.539\n",
            "\n",
            "      Epoch    GPU_mem   box_loss   cls_loss   dfl_loss  Instances       Size\n",
            "      19/50      13.8G      1.033     0.5486      1.073         24        640: 100% 49/49 [01:44<00:00,  2.14s/it]\n",
            "                 Class     Images  Instances      Box(P          R      mAP50  mAP50-95): 100% 5/5 [00:05<00:00,  1.12s/it]\n",
            "                   all        135        262      0.779      0.846      0.845      0.537\n",
            "\n",
            "      Epoch    GPU_mem   box_loss   cls_loss   dfl_loss  Instances       Size\n",
            "      20/50      13.8G      1.017     0.5518       1.07          9        640: 100% 49/49 [01:43<00:00,  2.12s/it]\n",
            "                 Class     Images  Instances      Box(P          R      mAP50  mAP50-95): 100% 5/5 [00:05<00:00,  1.09s/it]\n",
            "                   all        135        262      0.812      0.866      0.878      0.581\n",
            "\n",
            "      Epoch    GPU_mem   box_loss   cls_loss   dfl_loss  Instances       Size\n",
            "      21/50      13.9G      0.981     0.5435      1.066          6        640: 100% 49/49 [01:44<00:00,  2.13s/it]\n",
            "                 Class     Images  Instances      Box(P          R      mAP50  mAP50-95): 100% 5/5 [00:04<00:00,  1.00it/s]\n",
            "                   all        135        262      0.766       0.87      0.862      0.557\n",
            "\n",
            "      Epoch    GPU_mem   box_loss   cls_loss   dfl_loss  Instances       Size\n",
            "      22/50      13.8G     0.9677     0.5166      1.052         16        640: 100% 49/49 [01:43<00:00,  2.11s/it]\n",
            "                 Class     Images  Instances      Box(P          R      mAP50  mAP50-95): 100% 5/5 [00:04<00:00,  1.02it/s]\n",
            "                   all        135        262      0.816      0.824      0.879      0.575\n",
            "\n",
            "      Epoch    GPU_mem   box_loss   cls_loss   dfl_loss  Instances       Size\n",
            "      23/50      13.8G     0.9476     0.4988      1.043          7        640: 100% 49/49 [01:43<00:00,  2.11s/it]\n",
            "                 Class     Images  Instances      Box(P          R      mAP50  mAP50-95): 100% 5/5 [00:05<00:00,  1.19s/it]\n",
            "                   all        135        262      0.832      0.828      0.877      0.569\n",
            "\n",
            "      Epoch    GPU_mem   box_loss   cls_loss   dfl_loss  Instances       Size\n",
            "      24/50      13.9G     0.9382     0.4939      1.033          9        640: 100% 49/49 [01:44<00:00,  2.13s/it]\n",
            "                 Class     Images  Instances      Box(P          R      mAP50  mAP50-95): 100% 5/5 [00:05<00:00,  1.11s/it]\n",
            "                   all        135        262      0.776      0.882      0.871      0.559\n",
            "\n",
            "      Epoch    GPU_mem   box_loss   cls_loss   dfl_loss  Instances       Size\n",
            "      25/50      13.9G     0.9103     0.4837      1.034         12        640: 100% 49/49 [01:45<00:00,  2.16s/it]\n",
            "                 Class     Images  Instances      Box(P          R      mAP50  mAP50-95): 100% 5/5 [00:05<00:00,  1.02s/it]\n",
            "                   all        135        262      0.793      0.805      0.838      0.527\n",
            "\n",
            "      Epoch    GPU_mem   box_loss   cls_loss   dfl_loss  Instances       Size\n",
            "      26/50      13.8G     0.8837     0.4625      1.017         65        640:  53% 26/49 [00:53<00:45,  1.98s/it]"
          ]
        }
      ]
    },
    {
      "cell_type": "code",
      "execution_count": null,
      "metadata": {
        "id": "q0pfp7rQJZ_b"
      },
      "outputs": [],
      "source": [
        "!yolo task=detect mode=train model=/content/drive/MyDrive/YOLO_V8_DATASET/yolov8x.pt data=/content/drive/MyDrive/YOLO_V8_DATASET/dataset.yaml epochs=50 lr0 = 0.01 lrf = 0.01 optimizer= 'SGD' val = True imgsz=416 batch=8 project = /content/drive/MyDrive/YOLO_V8_DATASET"
      ]
    },
    {
      "cell_type": "code",
      "execution_count": null,
      "metadata": {
        "id": "GE1C606hVQAZ"
      },
      "outputs": [],
      "source": [
        " !yolo detect predict model=/content/drive/MyDrive/YOLO_V8_DATASET/train3/weights/best.pt project = /content/drive/MyDrive/YOLO_V8_DATASET source='/content/drive/MyDrive/YOLO_V8_DATASET/input 10.jpg'"
      ]
    }
  ],
  "metadata": {
    "accelerator": "GPU",
    "colab": {
      "provenance": []
    },
    "gpuClass": "standard",
    "kernelspec": {
      "display_name": "Python 3",
      "name": "python3"
    },
    "language_info": {
      "name": "python"
    }
  },
  "nbformat": 4,
  "nbformat_minor": 0
}